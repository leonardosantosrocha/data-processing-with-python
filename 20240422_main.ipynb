{
 "cells": [
  {
   "cell_type": "markdown",
   "metadata": {},
   "source": [
    "___\n",
    "#### Data Processing with Python - 22/04/2024\n",
    "___"
   ]
  },
  {
   "attachments": {},
   "cell_type": "markdown",
   "metadata": {},
   "source": [
    "1.\tFaça um Programa que peça um número e então mostre a mensagem O número informado foi [número]."
   ]
  },
  {
   "cell_type": "code",
   "execution_count": 1,
   "metadata": {},
   "outputs": [
    {
     "name": "stdout",
     "output_type": "stream",
     "text": [
      "The number typed is 3.5\n"
     ]
    }
   ],
   "source": [
    "def helloNumber() -> float:\n",
    "    number: float = float(input(\"Type a number: \"))\n",
    "    return number\n",
    "\n",
    "\n",
    "answer: float = helloNumber()\n",
    "print(f\"The number typed is {answer}\")"
   ]
  },
  {
   "attachments": {},
   "cell_type": "markdown",
   "metadata": {},
   "source": [
    "2.\tFaça um Programa que converta metros para centímetros."
   ]
  },
  {
   "cell_type": "code",
   "execution_count": 2,
   "metadata": {},
   "outputs": [
    {
     "name": "stdout",
     "output_type": "stream",
     "text": [
      "5.75m is equals to 575.0cm\n"
     ]
    }
   ],
   "source": [
    "def convert(meters: float) -> float:\n",
    "    return float(meters * 100)\n",
    "\n",
    "\n",
    "meters: float = 5.75\n",
    "answer: float = convert(meters)\n",
    "print(f\"{meters}m is equals to {answer}cm\")"
   ]
  },
  {
   "attachments": {},
   "cell_type": "markdown",
   "metadata": {},
   "source": [
    "3.\tFaça um Programa que peça a temperatura em graus Farenheit, transforme e mostre a temperatura em graus Celsius."
   ]
  },
  {
   "cell_type": "code",
   "execution_count": 3,
   "metadata": {},
   "outputs": [
    {
     "name": "stdout",
     "output_type": "stream",
     "text": [
      "1F is equals to -17.22222222222222C\n"
     ]
    }
   ],
   "source": [
    "def farenheitCelsius(farenheit: float) -> float:\n",
    "    celsius: float = float(5 * (farenheit-32) / 9)\n",
    "    return celsius\n",
    "\n",
    "\n",
    "farenheit: float = 1\n",
    "answer: float = farenheitCelsius(farenheit)\n",
    "print(f\"{farenheit}F is equals to {answer}C\")"
   ]
  },
  {
   "attachments": {},
   "cell_type": "markdown",
   "metadata": {},
   "source": [
    "4.\tFaça um Programa que leia um vetor de 5 números inteiros e mostre-os."
   ]
  },
  {
   "cell_type": "code",
   "execution_count": 4,
   "metadata": {},
   "outputs": [
    {
     "name": "stdout",
     "output_type": "stream",
     "text": [
      "Array typed equals to [0, 1, 2, 3, 4]\n"
     ]
    }
   ],
   "source": [
    "def showArray() -> list:\n",
    "    array: list = list()\n",
    "\n",
    "    for i in range(5):\n",
    "        number: int = int(input(f\"Number {i} equals to: \"))\n",
    "        array.append(number)\n",
    "    \n",
    "    return array\n",
    "\n",
    "\n",
    "answer: list = showArray()\n",
    "print(f\"Array typed equals to {answer}\")"
   ]
  },
  {
   "attachments": {},
   "cell_type": "markdown",
   "metadata": {},
   "source": [
    "5.\tFaça um Programa que leia 20 números inteiros e armazene-os num vetor. Armazene os números pares no vetor PAR e os números ímpares no vetor IMPARES. Imprima os vetores."
   ]
  },
  {
   "cell_type": "code",
   "execution_count": 5,
   "metadata": {},
   "outputs": [
    {
     "name": "stdout",
     "output_type": "stream",
     "text": [
      "Odd numbers equals to [1, 3, 5, 7, 9, 1, 3, 5, 7, 9] and even numbers equals to [0, 2, 4, 6, 8, 0, 2, 4, 6, 8]\n"
     ]
    }
   ],
   "source": [
    "def oddAndEven() -> list:\n",
    "    array: list = list()\n",
    "    odd: list = list()\n",
    "    even: list = list()\n",
    "\n",
    "    for i in range(20):\n",
    "        number: int = int(input(f\"Number {i} equals to: \"))\n",
    "        if number % 2 == 0:\n",
    "            even.append(number)\n",
    "        else:\n",
    "            odd.append(number)\n",
    "    \n",
    "    array.append(odd)\n",
    "    array.append(even)\n",
    "    return array\n",
    "\n",
    "\n",
    "answer: list = oddAndEven()\n",
    "print(f\"Odd numbers equals to {answer[0]} and even numbers equals to {answer[1]}\")"
   ]
  },
  {
   "attachments": {},
   "cell_type": "markdown",
   "metadata": {},
   "source": [
    "6.\tFaça um Programa que leia um vetor de 10 caracteres, e diga quantas consoantes foram lidas. Imprima as consoantes."
   ]
  },
  {
   "cell_type": "code",
   "execution_count": 6,
   "metadata": {},
   "outputs": [
    {
     "name": "stdout",
     "output_type": "stream",
     "text": [
      "Array read equals to ['b', 'c', 'd', 'f', 'g'] with 5 consonants\n"
     ]
    }
   ],
   "source": [
    "def countConsonant() -> int:\n",
    "    consonants: list = list()\n",
    "\n",
    "    for i in range(10):\n",
    "        char: str = str(input(f\"Char {i} equalst to: \"))\n",
    "        if ord(char) not in (97, 101, 105, 111, 117):\n",
    "            consonants.append(char)\n",
    "\n",
    "    return consonants\n",
    "\n",
    "\n",
    "answer: list = countConsonant()\n",
    "print(f\"Array read equals to {answer} with {len(answer)} consonants\")   "
   ]
  },
  {
   "attachments": {},
   "cell_type": "markdown",
   "metadata": {},
   "source": [
    "7.\tCrie uma tupla chamada cores contendo três cores de sua escolha. Em seguida, imprima cada cor em uma linha separada."
   ]
  },
  {
   "cell_type": "code",
   "execution_count": 7,
   "metadata": {},
   "outputs": [
    {
     "name": "stdout",
     "output_type": "stream",
     "text": [
      "black\n",
      "gray\n",
      "white\n",
      "Palette read equals to ('black', 'gray', 'white')\n"
     ]
    }
   ],
   "source": [
    "def showPalette(palette: tuple) -> tuple:\n",
    "    paletteSize: int = len(palette)\n",
    "    \n",
    "    for color in range(paletteSize):\n",
    "        print(pallete[color])\n",
    "\n",
    "    return palette    \n",
    "\n",
    "\n",
    "pallete: tuple = (\"black\", \"gray\", \"white\")\n",
    "answer: bool = showPalette(pallete)\n",
    "print(f\"Palette read equals to {answer}\")"
   ]
  },
  {
   "attachments": {},
   "cell_type": "markdown",
   "metadata": {},
   "source": [
    "8.\tDada a tupla ponto = (3, 4), calcule a distância do ponto à origem (0, 0) usando a fórmula matemática: sqrt((x^2 + y^2)), onde: x e y são as coordenadas do ponto.\n"
   ]
  },
  {
   "cell_type": "code",
   "execution_count": 8,
   "metadata": {},
   "outputs": [
    {
     "name": "stdout",
     "output_type": "stream",
     "text": [
      "Distance between 3.0 and 4.0 equals to 5.0\n"
     ]
    }
   ],
   "source": [
    "from math import sqrt\n",
    "from math import pow\n",
    "\n",
    "def distance(x: float, y: float) -> float:\n",
    "    return sqrt(pow(x, 2) + pow(y, 2))\n",
    "\n",
    "\n",
    "x: float = float(3)\n",
    "y: float = float(4)\n",
    "answer: float = distance(x, y)\n",
    "print(f\"Distance between {x} and {y} equals to {answer}\")"
   ]
  },
  {
   "attachments": {},
   "cell_type": "markdown",
   "metadata": {},
   "source": [
    "9.\tDada a tupla nomes = ('Data', 'Processing', 'with', 'Python', 'data'), conte quantas vezes o nome 'Data' aparece na tupla. "
   ]
  },
  {
   "cell_type": "code",
   "execution_count": 9,
   "metadata": {},
   "outputs": [
    {
     "name": "stdout",
     "output_type": "stream",
     "text": [
      "Item 'Data' occurred 2 times\n"
     ]
    }
   ],
   "source": [
    "def countItems(names: tuple) -> int:\n",
    "    count: int = names.count(\"Data\")\n",
    "    return count\n",
    "\n",
    "\n",
    "names: tuple = (\"Data\", \"Processing\", \"With\", \"Python\", \"Data\")\n",
    "answer: int = countItems(names)\n",
    "print(f\"Item 'Data' occurred {answer} times\")"
   ]
  },
  {
   "attachments": {},
   "cell_type": "markdown",
   "metadata": {},
   "source": [
    "10.\tCrie um dicionário chamado estoque com itens de um supermercado e suas quantidades. Solicite ao usuário que digite o nome de um item. Exiba a quantidade desse item, se existir no estoque."
   ]
  },
  {
   "cell_type": "code",
   "execution_count": 10,
   "metadata": {},
   "outputs": [
    {
     "name": "stdout",
     "output_type": "stream",
     "text": [
      "Product choosed has 5 items on stock\n"
     ]
    }
   ],
   "source": [
    "def computerStore(products: dict) -> str:\n",
    "    item: str = str(input(\"Choose your product: \"))\n",
    "\n",
    "    if item in products.keys():\n",
    "        return products[item]\n",
    "    else:\n",
    "        return 0\n",
    "\n",
    "\n",
    "products: dict = {\"i3\" : 5, \"i5\" : 11, \"i7\" : 7, \"ryzen 3\" : 6, \"ryzen 5\" : 12, \"ryzen 7\" : 8}\n",
    "answer: str = computerStore(products)\n",
    "print(f\"Product choosed has {answer} items on stock\")"
   ]
  },
  {
   "cell_type": "markdown",
   "metadata": {},
   "source": [
    "11. Crie um dicionário chamado agenda com nomes de pessoas e seus números de telefone. Permita que o usuário adicione novos contatos à agenda. \n"
   ]
  },
  {
   "cell_type": "code",
   "execution_count": 11,
   "metadata": {},
   "outputs": [
    {
     "name": "stdout",
     "output_type": "stream",
     "text": [
      "Danna number (00-00000-0003) has been added to your contacts\n",
      "\n",
      "Eslen number (00-00000-0004) has been added to your contacts\n",
      "\n",
      "Danna number (00-00000-0005) has been updated\n",
      "\n",
      "Contact list equals to {'Ana': '00-00000-0000', 'Billy': '00-00000-0001', 'Cassie': '00-00000-0002', 'Danna': '00-00000-0005', 'Eslen': '00-00000-0004'}\n"
     ]
    }
   ],
   "source": [
    "def contacts(people: dict) -> dict:\n",
    "    control: bool = True\n",
    "\n",
    "    while control:\n",
    "        contact: str = str(input(\"Your new contact is: \"))\n",
    "        number: str = str(input(f\"{contact} number equals to: \"))\n",
    "\n",
    "        if contact not in people.keys():\n",
    "            people[contact.capitalize()] = number\n",
    "            print(f\"{contact} number ({number}) has been added to your contacts\\n\")\n",
    "        else:\n",
    "            people[contact.capitalize()] = number\n",
    "            print(f\"{contact} number ({number}) has been updated\\n\")\n",
    "\n",
    "        answer: str = str(input(\"Would you like to add a new contact (S/N): \"))\n",
    "\n",
    "        if answer.upper() != \"S\":\n",
    "            control: bool = False\n",
    "\n",
    "    return people\n",
    "\n",
    "\n",
    "people: dict = {\"Ana\" : \"00-00000-0000\", \"Billy\" : \"00-00000-0001\", \"Cassie\" : \"00-00000-0002\"}\n",
    "answer: dict = contacts(people)\n",
    "print(f\"Contact list equals to {answer}\")"
   ]
  },
  {
   "cell_type": "markdown",
   "metadata": {},
   "source": [
    "12. Crie dois dicionários, dicionario1 e dicionario2, com chaves e valores diferentes. Crie um terceiro dicionário, dicionario_misturado, que contenha todas as chaves e valores de ambos dicionario1 e dicionario2.\n"
   ]
  },
  {
   "cell_type": "code",
   "execution_count": 12,
   "metadata": {},
   "outputs": [
    {
     "name": "stdout",
     "output_type": "stream",
     "text": [
      "Merged dict equals to {'Psalm': '23:4', 'Deuteronomy': '31:6', 'Nehemiah': '8:10', 'Isaiah': '40:31', 'Corinthians': '16:13', 'Exodus': '15:2'}\n"
     ]
    }
   ],
   "source": [
    "def mergeDict(firstDict: dict, secondDict: dict) -> dict:\n",
    "    thirdDict: dict = firstDict | secondDict\n",
    "    return thirdDict\n",
    "\n",
    "\n",
    "firstDict: dict = {\"Psalm\" : \"23:4\", \"Deuteronomy\" : \"31:6\", \"Nehemiah\" : \"8:10\"}\n",
    "secondDict: dict = {\"Isaiah\" : \"40:31\", \"Corinthians\" : \"16:13\", \"Exodus\" : \"15:2\"}\n",
    "answer: dict = mergeDict(firstDict, secondDict)\n",
    "print(f\"Merged dict equals to {answer}\")"
   ]
  },
  {
   "cell_type": "markdown",
   "metadata": {},
   "source": [
    "13. Crie um conjunto com números inteiros e permita que o usuário adicione novos números. Remova todas as duplicatas do conjunto e imprima o conjunto resultante.\n"
   ]
  },
  {
   "cell_type": "code",
   "execution_count": 13,
   "metadata": {},
   "outputs": [
    {
     "name": "stdout",
     "output_type": "stream",
     "text": [
      "Numeric set equals to {0, 1, 2, 3, 4, 5}\n"
     ]
    }
   ],
   "source": [
    "def integerNumbers(numbers: set) -> set:\n",
    "    control: bool = True\n",
    "    \n",
    "    while control:\n",
    "        number: int = int(input(\"Insert the number: \"))\n",
    "        numbers.add(number)\n",
    "\n",
    "        answer: str = str(input(\"Would you like to add a new number (S/N): \"))\n",
    "\n",
    "        if answer.upper() != \"S\":\n",
    "            control: bool = False \n",
    "    \n",
    "    return numbers\n",
    "\n",
    "\n",
    "numbers: set = set()\n",
    "answer: set = integerNumbers(numbers)\n",
    "print(f\"Numeric set equals to {answer}\")"
   ]
  },
  {
   "cell_type": "markdown",
   "metadata": {},
   "source": [
    "14. Crie dois conjuntos, conjunto1 e conjunto2, com elementos diferentes. Realize operações de união, interseção e diferença entre esses conjuntos e imprima os resultados.\n"
   ]
  },
  {
   "cell_type": "code",
   "execution_count": 14,
   "metadata": {},
   "outputs": [
    {
     "name": "stdout",
     "output_type": "stream",
     "text": [
      "Union equals to {0, 1, 2, 3, 4, 5, 6, 7, 8, 9}\n",
      "\n",
      "Intersection equals to set()\n",
      "\n",
      "Difference equals to {1, 3, 5, 7, 9}\n",
      "\n"
     ]
    }
   ],
   "source": [
    "def setOperations(firstSet: set, secondSet: set) -> None:\n",
    "    union = firstSet.union(secondSet)\n",
    "    print(f\"Union equals to {union}\\n\")\n",
    "    intersection = firstSet.intersection(secondSet)\n",
    "    print(f\"Intersection equals to {intersection}\\n\")\n",
    "    difference = firstSet.difference(secondSet)\n",
    "    print(f\"Difference equals to {difference}\\n\")\n",
    "\n",
    "\n",
    "firstSet: set = {1, 3, 5, 7, 9}\n",
    "secondSet: set = {0, 2, 4, 6, 8}\n",
    "answer: None = setOperations(firstSet, secondSet)"
   ]
  },
  {
   "cell_type": "markdown",
   "metadata": {},
   "source": [
    "15. Converta uma lista em um conjunto e, em seguida, converta o conjunto de volta para uma lista. Imprima a lista resultante para verificar se a conversão foi bem-sucedida.\n"
   ]
  },
  {
   "cell_type": "code",
   "execution_count": 15,
   "metadata": {},
   "outputs": [
    {
     "name": "stdout",
     "output_type": "stream",
     "text": [
      "Output equals to ['e', 'a', 'u', 'o', 'i']\n"
     ]
    }
   ],
   "source": [
    "def conversion(structure: list) -> list:\n",
    "    temporary: set = set(structure)\n",
    "    return list(temporary)\n",
    "\n",
    "\n",
    "structure: list = [\"a\", \"e\", \"i\", \"o\", \"u\", \"a\", \"e\", \"i\", \"o\", \"u\"]\n",
    "answer: list = conversion(structure)\n",
    "print(f\"Output equals to {answer}\")"
   ]
  },
  {
   "cell_type": "markdown",
   "metadata": {},
   "source": [
    "___\n",
    "Desenvolvido por: Leonardo Santos da Rocha\n",
    "___"
   ]
  }
 ],
 "metadata": {
  "kernelspec": {
   "display_name": "Python 3",
   "language": "python",
   "name": "python3"
  },
  "language_info": {
   "codemirror_mode": {
    "name": "ipython",
    "version": 3
   },
   "file_extension": ".py",
   "mimetype": "text/x-python",
   "name": "python",
   "nbconvert_exporter": "python",
   "pygments_lexer": "ipython3",
   "version": "3.12.2"
  },
  "orig_nbformat": 4
 },
 "nbformat": 4,
 "nbformat_minor": 2
}
